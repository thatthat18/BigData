{
 "cells": [
  {
   "cell_type": "markdown",
   "id": "01e95089-5ce7-4395-a77c-559862949acc",
   "metadata": {},
   "source": [
    "## Линейная алгебра и интерполяция."
   ]
  },
  {
   "cell_type": "code",
   "execution_count": 1,
   "id": "10a0de22-0437-422d-9964-ed7b7135a26d",
   "metadata": {},
   "outputs": [],
   "source": [
    "import numpy as np\n",
    "import matplotlib.pyplot as plt"
   ]
  },
  {
   "cell_type": "markdown",
   "id": "f50b2e1d-a27e-40ac-9d82-fcb359c933ef",
   "metadata": {},
   "source": [
    "### Скаляры и операции над ними"
   ]
  },
  {
   "cell_type": "code",
   "execution_count": 2,
   "id": "03f5e443-fa4f-4abe-9413-a2a15109b53e",
   "metadata": {},
   "outputs": [],
   "source": [
    "pi = 3.14\n",
    "e = 2.7"
   ]
  },
  {
   "cell_type": "code",
   "execution_count": 3,
   "id": "a8ad78b4-2e0e-45f8-86ed-27801171c349",
   "metadata": {},
   "outputs": [
    {
     "data": {
      "text/plain": [
       "(True, True, False)"
      ]
     },
     "execution_count": 3,
     "metadata": {},
     "output_type": "execute_result"
    }
   ],
   "source": [
    "np.isscalar(pi), np.isscalar(e), np.isscalar([e, pi])"
   ]
  },
  {
   "cell_type": "code",
   "execution_count": 4,
   "id": "2afe2aff-a05d-4a3f-b691-98913f91a83c",
   "metadata": {},
   "outputs": [
    {
     "name": "stdout",
     "output_type": "stream",
     "text": [
      "5.84\n",
      "8.478000000000002\n",
      "1.162962962962963\n"
     ]
    }
   ],
   "source": [
    "print(pi + e) #sum\n",
    "print(pi * e) #product\n",
    "print(pi / e) #division"
   ]
  },
  {
   "cell_type": "code",
   "execution_count": 5,
   "id": "3f793a35-fb98-445f-bee9-c81306ec576c",
   "metadata": {},
   "outputs": [],
   "source": [
    "a = 5\n",
    "b = 20\n",
    "neutral_sum = 0\n",
    "neutral_mul = 1"
   ]
  },
  {
   "cell_type": "code",
   "execution_count": 6,
   "id": "bfb27b74-630b-4450-98d8-44d0847fbde4",
   "metadata": {},
   "outputs": [
    {
     "data": {
      "text/plain": [
       "(True, True)"
      ]
     },
     "execution_count": 6,
     "metadata": {},
     "output_type": "execute_result"
    }
   ],
   "source": [
    "a + neutral_sum == a, a * neutral_mul == a"
   ]
  },
  {
   "cell_type": "code",
   "execution_count": 7,
   "id": "f2d9ce5e-eb88-4e09-a7fc-cbfbef8999a7",
   "metadata": {},
   "outputs": [],
   "source": [
    "reverse_a_sum = -5\n",
    "reverse_a_mul = 1/5"
   ]
  },
  {
   "cell_type": "code",
   "execution_count": 8,
   "id": "cb19968e-d3ee-4509-bc89-a96983dd4278",
   "metadata": {},
   "outputs": [],
   "source": [
    "# a * x = b\n",
    "# reverse_a_mul * a * x = reverse_a_mul * b\n",
    "x = reverse_a_mul * b"
   ]
  },
  {
   "cell_type": "code",
   "execution_count": 9,
   "id": "37410af5-8e57-493d-a8bb-44437cf686a7",
   "metadata": {},
   "outputs": [
    {
     "data": {
      "text/plain": [
       "4.0"
      ]
     },
     "execution_count": 9,
     "metadata": {},
     "output_type": "execute_result"
    }
   ],
   "source": [
    "x"
   ]
  },
  {
   "cell_type": "code",
   "execution_count": 10,
   "id": "01c30436-f215-43fa-a211-cde2e0815ef6",
   "metadata": {},
   "outputs": [
    {
     "data": {
      "text/plain": [
       "4.0"
      ]
     },
     "execution_count": 10,
     "metadata": {},
     "output_type": "execute_result"
    }
   ],
   "source": [
    "reverse_a_mul * b"
   ]
  },
  {
   "cell_type": "markdown",
   "id": "f985e503-3621-4be4-9d09-3a0c60aab5ad",
   "metadata": {},
   "source": [
    "### Векторы"
   ]
  },
  {
   "cell_type": "code",
   "execution_count": 11,
   "id": "dc8c3760-fb87-43e8-8ef2-743f5ce57d56",
   "metadata": {},
   "outputs": [],
   "source": [
    "vec_1 = np.array([2, -6, 0, 0.8])\n",
    "vec_2 = np.array([4, 6, 9, -1])"
   ]
  },
  {
   "cell_type": "code",
   "execution_count": 12,
   "id": "d2fac84b-51b8-4dd1-9df9-6b1d8668287d",
   "metadata": {},
   "outputs": [
    {
     "name": "stdout",
     "output_type": "stream",
     "text": [
      "[ 6.   0.   9.  -0.2]\n",
      "[  8.  -36.    0.   -0.8]\n",
      "[ 0.5 -1.   0.  -0.8]\n"
     ]
    }
   ],
   "source": [
    "print(vec_1 + vec_2)\n",
    "print(vec_1 * vec_2)\n",
    "print(vec_1 / vec_2)"
   ]
  },
  {
   "cell_type": "code",
   "execution_count": 13,
   "id": "ca5d6e3b-6b57-4756-ad59-52ca89ff20f7",
   "metadata": {},
   "outputs": [],
   "source": [
    "scalar = 0.5"
   ]
  },
  {
   "cell_type": "code",
   "execution_count": 14,
   "id": "68b5d05b-6904-42c7-87b1-cd29fb451263",
   "metadata": {},
   "outputs": [
    {
     "name": "stdout",
     "output_type": "stream",
     "text": [
      "[ 1.  -3.   0.   0.4]\n",
      "[  4.  -12.    0.    1.6]\n",
      "[ 2.5 -5.5  0.5  1.3]\n"
     ]
    }
   ],
   "source": [
    "print(vec_1 * 0.5)\n",
    "print(vec_1 / 0.5)\n",
    "print(vec_1 + 0.5)"
   ]
  },
  {
   "cell_type": "code",
   "execution_count": 15,
   "id": "295d926f-1858-4ed3-8b1b-9a798ecfeab7",
   "metadata": {},
   "outputs": [
    {
     "data": {
      "text/plain": [
       "-28.8"
      ]
     },
     "execution_count": 15,
     "metadata": {},
     "output_type": "execute_result"
    }
   ],
   "source": [
    "vec_1 @ vec_2 # inner product"
   ]
  },
  {
   "cell_type": "code",
   "execution_count": 18,
   "id": "ae789705-7282-41ec-986c-804165417200",
   "metadata": {},
   "outputs": [
    {
     "data": {
      "text/plain": [
       "-28.8"
      ]
     },
     "execution_count": 18,
     "metadata": {},
     "output_type": "execute_result"
    }
   ],
   "source": [
    "np.sum(vec_1 * vec_2)"
   ]
  },
  {
   "cell_type": "code",
   "execution_count": 19,
   "id": "c881c23a-a581-448a-ad7d-2e554b5f782e",
   "metadata": {},
   "outputs": [
    {
     "data": {
      "text/plain": [
       "-28.8"
      ]
     },
     "execution_count": 19,
     "metadata": {},
     "output_type": "execute_result"
    }
   ],
   "source": [
    "in_prod = 0\n",
    "for i in range(len(vec_1)):\n",
    "    in_prod += vec_1[i] * vec_2[i]\n",
    "in_prod"
   ]
  },
  {
   "cell_type": "markdown",
   "id": "c32af85c-f8f3-45d1-9129-f09c22827497",
   "metadata": {},
   "source": [
    "### Матрицы"
   ]
  },
  {
   "cell_type": "code",
   "execution_count": 20,
   "id": "dd483a11-2a59-4438-a967-2b309cd7f2b3",
   "metadata": {},
   "outputs": [
    {
     "data": {
      "text/plain": [
       "array([[1, 2, 3],\n",
       "       [4, 5, 6],\n",
       "       [7, 8, 9]])"
      ]
     },
     "execution_count": 20,
     "metadata": {},
     "output_type": "execute_result"
    }
   ],
   "source": [
    "mat = [\n",
    "    [1, 2, 3],\n",
    "    [4, 5, 6],\n",
    "    [7, 8, 9]\n",
    "]\n",
    "mat_1 = np.array(mat) # mat = np.matrix(mat)\n",
    "mat_1"
   ]
  },
  {
   "cell_type": "code",
   "execution_count": 21,
   "id": "e240fe6e-21dd-4571-a2ba-7c33df168184",
   "metadata": {},
   "outputs": [
    {
     "data": {
      "text/plain": [
       "array([[ 0.4,  5. ,  3. ],\n",
       "       [-1. ,  0.5,  8. ],\n",
       "       [-1. ,  0. ,  1. ]])"
      ]
     },
     "execution_count": 21,
     "metadata": {},
     "output_type": "execute_result"
    }
   ],
   "source": [
    "mat_2 = np.array([\n",
    "    [0.4, 5, 3],\n",
    "    [-1, 0.5, 8],\n",
    "    [-1, 0, 1]\n",
    "])\n",
    "mat_2"
   ]
  },
  {
   "cell_type": "code",
   "execution_count": 22,
   "id": "f84b99a1-30bd-49e0-aaf6-40435919704e",
   "metadata": {},
   "outputs": [
    {
     "data": {
      "text/plain": [
       "(3, 3)"
      ]
     },
     "execution_count": 22,
     "metadata": {},
     "output_type": "execute_result"
    }
   ],
   "source": [
    "mat_1.shape"
   ]
  },
  {
   "cell_type": "code",
   "execution_count": 23,
   "id": "59d950e6-0bb2-4eea-a30b-f81ccbc36fcb",
   "metadata": {},
   "outputs": [
    {
     "name": "stdout",
     "output_type": "stream",
     "text": [
      "[[ 1.4  7.   6. ]\n",
      " [ 3.   5.5 14. ]\n",
      " [ 6.   8.  10. ]]\n",
      "----------------\n",
      "[[-1 -2 -3]\n",
      " [-4 -5 -6]\n",
      " [-7 -8 -9]]\n",
      "----------------\n",
      "[[ 0.4 10.   9. ]\n",
      " [-4.   2.5 48. ]\n",
      " [-7.   0.   9. ]]\n"
     ]
    }
   ],
   "source": [
    "print(mat_1 + mat_2, end='\\n----------------\\n')\n",
    "print(mat_1 * -1, end='\\n----------------\\n')\n",
    "print(mat_1 * mat_2)"
   ]
  },
  {
   "cell_type": "markdown",
   "id": "5c9d4a29-2889-4981-9c34-809de71d0663",
   "metadata": {},
   "source": [
    "#### Матричное произведение"
   ]
  },
  {
   "cell_type": "code",
   "execution_count": 24,
   "id": "53a4c22b-55e9-4144-9723-068400e53fc3",
   "metadata": {},
   "outputs": [
    {
     "data": {
      "text/plain": [
       "array([[ -4.6,   6. ,  22. ],\n",
       "       [ -9.4,  22.5,  58. ],\n",
       "       [-14.2,  39. ,  94. ]])"
      ]
     },
     "execution_count": 24,
     "metadata": {},
     "output_type": "execute_result"
    }
   ],
   "source": [
    "mat_1 @ mat_2"
   ]
  },
  {
   "cell_type": "code",
   "execution_count": 25,
   "id": "8ce93b0f-6e35-4c46-ac65-4d20c0230cf8",
   "metadata": {},
   "outputs": [
    {
     "data": {
      "text/plain": [
       "array([[ -4.6,   6. ,  22. ],\n",
       "       [ -9.4,  22.5,  58. ],\n",
       "       [-14.2,  39. ,  94. ]])"
      ]
     },
     "execution_count": 25,
     "metadata": {},
     "output_type": "execute_result"
    }
   ],
   "source": [
    "np.dot(mat_1, mat_2)"
   ]
  },
  {
   "cell_type": "code",
   "execution_count": 26,
   "id": "675f6311-3cea-4c7d-a1b6-4dcf13eb5589",
   "metadata": {},
   "outputs": [
    {
     "data": {
      "text/plain": [
       "True"
      ]
     },
     "execution_count": 26,
     "metadata": {},
     "output_type": "execute_result"
    }
   ],
   "source": [
    "np.all(mat_1 @ mat_2 == np.dot(mat_1, mat_2))"
   ]
  },
  {
   "cell_type": "code",
   "execution_count": 28,
   "id": "7ffe8ef1-fe49-4967-a042-01835d091f0c",
   "metadata": {},
   "outputs": [
    {
     "data": {
      "text/plain": [
       "(3, 3)"
      ]
     },
     "execution_count": 28,
     "metadata": {},
     "output_type": "execute_result"
    }
   ],
   "source": [
    "mat_1.shape"
   ]
  },
  {
   "cell_type": "code",
   "execution_count": 29,
   "id": "1f8bfbe0-b5f8-49a1-916b-9612b436d9d6",
   "metadata": {},
   "outputs": [
    {
     "data": {
      "text/plain": [
       "(3,)"
      ]
     },
     "execution_count": 29,
     "metadata": {},
     "output_type": "execute_result"
    }
   ],
   "source": [
    "np.array([0, 1, 2]).shape"
   ]
  },
  {
   "cell_type": "code",
   "execution_count": 30,
   "id": "520fb826-23b6-42be-93df-6119d86cbaf3",
   "metadata": {},
   "outputs": [
    {
     "data": {
      "text/plain": [
       "array([ 8, 17, 26])"
      ]
     },
     "execution_count": 30,
     "metadata": {},
     "output_type": "execute_result"
    }
   ],
   "source": [
    "mat_1 @ np.array([0, 1, 2])"
   ]
  },
  {
   "cell_type": "code",
   "execution_count": 33,
   "id": "69d62f78-30ba-49fc-a178-7dc2fb1b5ee7",
   "metadata": {},
   "outputs": [
    {
     "data": {
      "text/plain": [
       "array([[ 0.4,  5. ,  3. ],\n",
       "       [-1. ,  0.5,  8. ],\n",
       "       [-1. ,  0. ,  1. ],\n",
       "       [-1. ,  0. ,  1. ]])"
      ]
     },
     "execution_count": 33,
     "metadata": {},
     "output_type": "execute_result"
    }
   ],
   "source": [
    "mat_3 = np.array([\n",
    "    [0.4, 5, 3],\n",
    "    [-1, 0.5, 8],\n",
    "    [-1, 0, 1],\n",
    "    [-1, 0, 1]\n",
    "])\n",
    "mat_3"
   ]
  },
  {
   "cell_type": "code",
   "execution_count": 36,
   "id": "20caa21c-e3a3-4024-9aa6-ef9380c9e486",
   "metadata": {},
   "outputs": [
    {
     "ename": "ValueError",
     "evalue": "matmul: Input operand 1 has a mismatch in its core dimension 0, with gufunc signature (n?,k),(k,m?)->(n?,m?) (size 4 is different from 3)",
     "output_type": "error",
     "traceback": [
      "\u001b[1;31m---------------------------------------------------------------------------\u001b[0m",
      "\u001b[1;31mValueError\u001b[0m                                Traceback (most recent call last)",
      "Cell \u001b[1;32mIn [36], line 1\u001b[0m\n\u001b[1;32m----> 1\u001b[0m \u001b[43mmat_1\u001b[49m\u001b[43m \u001b[49m\u001b[38;5;241;43m@\u001b[39;49m\u001b[43m \u001b[49m\u001b[43mmat_3\u001b[49m\n",
      "\u001b[1;31mValueError\u001b[0m: matmul: Input operand 1 has a mismatch in its core dimension 0, with gufunc signature (n?,k),(k,m?)->(n?,m?) (size 4 is different from 3)"
     ]
    }
   ],
   "source": [
    "mat_1 @ mat_3"
   ]
  },
  {
   "cell_type": "markdown",
   "id": "05eb21cf-2604-4dd9-9566-2489e649af76",
   "metadata": {},
   "source": [
    "#### Транспонирование"
   ]
  },
  {
   "cell_type": "code",
   "execution_count": 56,
   "id": "6b2c0e38-764d-4b40-942b-77105fd5e303",
   "metadata": {},
   "outputs": [
    {
     "data": {
      "text/plain": [
       "array([[1, 2, 3],\n",
       "       [4, 5, 6],\n",
       "       [7, 8, 9]])"
      ]
     },
     "execution_count": 56,
     "metadata": {},
     "output_type": "execute_result"
    }
   ],
   "source": [
    "mat_1"
   ]
  },
  {
   "cell_type": "code",
   "execution_count": 57,
   "id": "84c3ae05-490f-40ea-bfef-b7996aa29085",
   "metadata": {},
   "outputs": [
    {
     "data": {
      "text/plain": [
       "array([[1, 4, 7],\n",
       "       [2, 5, 8],\n",
       "       [3, 6, 9]])"
      ]
     },
     "execution_count": 57,
     "metadata": {},
     "output_type": "execute_result"
    }
   ],
   "source": [
    "mat_1.T"
   ]
  },
  {
   "cell_type": "markdown",
   "id": "e34e2f7d-1a1b-4e8c-af2b-760f5cffd2d3",
   "metadata": {},
   "source": [
    "#### Определитель"
   ]
  },
  {
   "cell_type": "code",
   "execution_count": 37,
   "id": "94e4ad16-a502-403a-9df0-c3a6bb97cf64",
   "metadata": {},
   "outputs": [
    {
     "data": {
      "text/plain": [
       "-33.3"
      ]
     },
     "execution_count": 37,
     "metadata": {},
     "output_type": "execute_result"
    }
   ],
   "source": [
    "np.linalg.det(mat_2)"
   ]
  },
  {
   "cell_type": "code",
   "execution_count": 38,
   "id": "9a7752dd-1fe6-430f-b597-bf2c3bb44430",
   "metadata": {},
   "outputs": [
    {
     "data": {
      "text/plain": [
       "0.0"
      ]
     },
     "execution_count": 38,
     "metadata": {},
     "output_type": "execute_result"
    }
   ],
   "source": [
    "degen_mat = np.array([\n",
    "    [1, 2],\n",
    "    [2, 4]\n",
    "])\n",
    "np.linalg.det(degen_mat)"
   ]
  },
  {
   "cell_type": "markdown",
   "id": "ccfae272-8b73-4972-b29c-b3db2ee35851",
   "metadata": {},
   "source": [
    "#### Обратная матрица"
   ]
  },
  {
   "cell_type": "code",
   "execution_count": 39,
   "id": "9f15ab9d-8fb0-4d05-b7da-bf69b2b183ee",
   "metadata": {},
   "outputs": [
    {
     "data": {
      "text/plain": [
       "array([[-0.01501502,  0.15015015, -1.15615616],\n",
       "       [ 0.21021021, -0.1021021 ,  0.18618619],\n",
       "       [-0.01501502,  0.15015015, -0.15615616]])"
      ]
     },
     "execution_count": 39,
     "metadata": {},
     "output_type": "execute_result"
    }
   ],
   "source": [
    "inv_mat_2 = np.linalg.inv(mat_2)\n",
    "inv_mat_2"
   ]
  },
  {
   "cell_type": "code",
   "execution_count": 40,
   "id": "75c1f0a1-ea95-4b56-ba95-3b77a439a9a1",
   "metadata": {},
   "outputs": [
    {
     "data": {
      "text/plain": [
       "array([[ 0.4,  5. ,  3. ],\n",
       "       [-1. ,  0.5,  8. ],\n",
       "       [-1. ,  0. ,  1. ]])"
      ]
     },
     "execution_count": 40,
     "metadata": {},
     "output_type": "execute_result"
    }
   ],
   "source": [
    "mat_2"
   ]
  },
  {
   "cell_type": "code",
   "execution_count": 41,
   "id": "f93a852f-4a64-4069-bcb5-b51a1f8c9d61",
   "metadata": {},
   "outputs": [
    {
     "data": {
      "text/plain": [
       "array([[ 1.00000000e+00,  2.77555756e-17, -5.55111512e-17],\n",
       "       [ 0.00000000e+00,  1.00000000e+00,  0.00000000e+00],\n",
       "       [-1.56125113e-17,  1.66533454e-16,  1.00000000e+00]])"
      ]
     },
     "execution_count": 41,
     "metadata": {},
     "output_type": "execute_result"
    }
   ],
   "source": [
    "res = mat_2 @ inv_mat_2\n",
    "res"
   ]
  },
  {
   "cell_type": "code",
   "execution_count": null,
   "id": "d1009ca6-5d76-4ef0-bb5d-3004a9926d10",
   "metadata": {},
   "outputs": [],
   "source": [
    "res.shape"
   ]
  },
  {
   "cell_type": "code",
   "execution_count": null,
   "id": "067b4fa2-6664-49e3-a334-9ae334b3463a",
   "metadata": {},
   "outputs": [],
   "source": [
    "import math\n",
    "\n",
    "temp_mat = []\n",
    "for i in range(res.shape[0]):\n",
    "    arr = []\n",
    "    for j in range(res.shape[1]):\n",
    "        arr.append(math.isclose(res[i, j], 0, abs_tol=1e-10))\n",
    "    temp_mat.append(arr)\n",
    "temp_mat = np.array(temp_mat)\n",
    "temp_mat"
   ]
  },
  {
   "cell_type": "code",
   "execution_count": null,
   "id": "c69c8dd9-2e9f-4467-83a7-1fddd0b418fd",
   "metadata": {},
   "outputs": [],
   "source": [
    "import math\n",
    "\n",
    "temp_mat = []\n",
    "for i in range(res.shape[0]):\n",
    "    arr = []\n",
    "    for j in range(res.shape[1]):\n",
    "        arr.append(np.round(res[i, j]))\n",
    "    temp_mat.append(arr)\n",
    "temp_mat = np.array(temp_mat)\n",
    "temp_mat"
   ]
  },
  {
   "cell_type": "markdown",
   "id": "47b0454f-dd91-494e-b09b-5fd4a65e069f",
   "metadata": {},
   "source": [
    "## Интерполяция"
   ]
  },
  {
   "cell_type": "code",
   "execution_count": 42,
   "id": "217ff0eb-a3aa-45ca-9c97-48ed5db2615a",
   "metadata": {},
   "outputs": [
    {
     "data": {
      "image/png": "[encoded data removed]",
      "text/plain": [
       "<Figure size 640x480 with 1 Axes>"
      ]
     },
     "metadata": {},
     "output_type": "display_data"
    }
   ],
   "source": [
    "low_bound = -2\n",
    "high_bound = 2\n",
    "\n",
    "fig, ax = plt.subplots()\n",
    "x = np.linspace(low_bound, high_bound, 1000)\n",
    "y = np.sin(x ** 3)\n",
    "ax.plot(x, y, label='sin(x ** 3)')\n",
    "ax.grid(True)\n",
    "ax.set_xlabel(\"x\")\n",
    "ax.set_ylabel(\"y\")\n",
    "ax.legend()\n",
    "plt.show()"
   ]
  },
  {
   "cell_type": "markdown",
   "id": "4d1b2432-3771-40bf-b198-af58af164a3e",
   "metadata": {},
   "source": [
    "### Линейная интерполяция по мономам"
   ]
  },
  {
   "cell_type": "code",
   "execution_count": 111,
   "id": "6ad2dc07-3167-45a0-b676-d8c2442fdd7b",
   "metadata": {},
   "outputs": [],
   "source": [
    "deg = 15\n",
    "x = np.linspace(low_bound, high_bound, deg)\n",
    "y = np.sin(x ** 3)\n",
    "# y = np.random.normal(3, 5, deg)"
   ]
  },
  {
   "cell_type": "code",
   "execution_count": 112,
   "id": "3c884018-d3ca-4f8f-a6e6-f18fcd06573b",
   "metadata": {},
   "outputs": [],
   "source": [
    "A = np.array([x ** i for i in range(deg)]).T"
   ]
  },
  {
   "cell_type": "code",
   "execution_count": 113,
   "id": "451b9218-51e3-4e24-bc21-28262e8d339e",
   "metadata": {},
   "outputs": [],
   "source": [
    "coef = np.linalg.inv(A) @ y"
   ]
  },
  {
   "cell_type": "code",
   "execution_count": 114,
   "id": "7f155b8a-c29f-4519-8c49-2951ec8a5afb",
   "metadata": {},
   "outputs": [],
   "source": [
    "temp = np.linalg.solve(A, y)"
   ]
  },
  {
   "cell_type": "code",
   "execution_count": 97,
   "id": "48a05fd0-e412-4df7-9911-c17ab8b2df2f",
   "metadata": {},
   "outputs": [
    {
     "data": {
      "text/plain": [
       "array([ 1.09634524e-15,  3.82126618e-02, -1.22124533e-15,  7.87420492e-01,\n",
       "        2.08166817e-16, -1.68325969e-01])"
      ]
     },
     "execution_count": 97,
     "metadata": {},
     "output_type": "execute_result"
    }
   ],
   "source": [
    "coef"
   ]
  },
  {
   "cell_type": "code",
   "execution_count": 89,
   "id": "e8d15ade-3ca2-4de9-b277-e68fb111f840",
   "metadata": {},
   "outputs": [],
   "source": [
    "def result_func(coef, x, deg=deg):\n",
    "    polynom = np.array([x ** i for i in range(deg)]).T\n",
    "    return polynom @ coef"
   ]
  },
  {
   "cell_type": "code",
   "execution_count": 90,
   "id": "f6769139-d245-487a-a15a-1ec9a295ac97",
   "metadata": {},
   "outputs": [
    {
     "data": {
      "text/plain": [
       "array([ 1.09634524e-15,  3.82126618e-02, -1.22124533e-15,  7.87420492e-01,\n",
       "        2.08166817e-16, -1.68325969e-01])"
      ]
     },
     "execution_count": 90,
     "metadata": {},
     "output_type": "execute_result"
    }
   ],
   "source": [
    "coef"
   ]
  },
  {
   "cell_type": "code",
   "execution_count": 91,
   "id": "6a02ed69-8fb0-4392-8e77-31ebf6f4d85d",
   "metadata": {},
   "outputs": [
    {
     "data": {
      "image/png": "[encoded data removed]",
      "text/plain": [
       "<Figure size 640x480 with 1 Axes>"
      ]
     },
     "metadata": {},
     "output_type": "display_data"
    }
   ],
   "source": [
    "fig, ax = plt.subplots()\n",
    "x_graph = np.linspace(low_bound, high_bound, 100)\n",
    "ax.plot(x_graph, result_func(coef, x_graph), label=f\"a + b * x^1 + ... + c * x^{deg - 1}\", color='r')\n",
    "ax.plot(x_graph, np.sin(x_graph ** 3), label='sin(x)')\n",
    "ax.scatter(x, y)\n",
    "ax.grid(True)\n",
    "ax.set_xlabel(\"x\")\n",
    "ax.set_ylabel(\"y\")\n",
    "ax.legend()\n",
    "plt.show()"
   ]
  },
  {
   "cell_type": "markdown",
   "id": "517127c1-5dea-4b67-a188-69a8ad7378e4",
   "metadata": {},
   "source": [
    "### Полиномы Лагранжа"
   ]
  },
  {
   "cell_type": "markdown",
   "id": "6514d8d4-bbe5-4369-94e8-c8b9e9d56c39",
   "metadata": {},
   "source": [
    "Пусть задана $n+1$ пара чисел $ (x_{0},y_{0}),(x_{1},y_{1}),\\ldots ,(x_{n},y_{n}),$ где все\n",
    "$x_{j}$ различны. Требуется построить многочлен $L(x)$ степени не более $n$, для которого\n",
    "$ L(x_{j})=y_{j}$.\n",
    "\n",
    "Ж. Л. Лагранж предложил следующий способ вычисления таких многочленов:\n",
    "\n",
    "$$ L(x)=\\sum _{i=0}^{n}y_{i}l_{i}(x),$$\n",
    "где базисные полиномы $l_{i}$ определяются по формуле\n",
    "$$ l_{i}(x)=\\prod _{j=0,j\\neq i}^{n}{\\frac {x-x_{j}}{x_{i}-x_{j}}}={\\frac {x-x_{0}}{x_{i}-x_{0}}}\\cdots {\\frac {x-x_{i-1}}{x_{i}-x_{i-1}}}\\cdot {\\frac {x-x_{i+1}}{x_{i}-x_{i+1}}}\\cdots {\\frac {x-x_{n}}{x_{i}-x_{n}}}$$"
   ]
  },
  {
   "cell_type": "markdown",
   "id": "3592b154-89d4-46d9-bd4a-60862839cee6",
   "metadata": {},
   "source": [
    "# Домашнее задание(до понедельника):\n",
    "1. Решить следующие примеры \"руками\", а затем проверить на Python:\n",
    "    - Вычислить произведение матриц: $\\left(\\begin{array}{lll}1 & -3 & 2 \\\\ 3 & -4 & 1 \\\\ 2 & -5 & 3\\end{array}\\right) \\cdot\\left(\\begin{array}{lll}2 & 5 & 6 \\\\ 1 & 2 & 5 \\\\ 1 & 3 & 2\\end{array}\\right)$\n",
    "    - Вычислить произведение матриц: $\\left(\\begin{array}{ll}4 & 3 \\\\ 7 & 5\\end{array}\\right) \\cdot\\left(\\begin{array}{cc}-28 & 93 \\\\ 38 & -126\\end{array}\\right) \\cdot\\left(\\begin{array}{ll}7 & 3 \\\\ 2 & 1\\end{array}\\right)$\n",
    "    - Вычислить произведение матриц: $\\left(\\begin{array}{lll}1 & -3 & 2 \\\\ 3 & -4 & 1 \\\\ 2 & -5 & 3\\end{array}\\right) \\cdot\\left(\\begin{array}{lll}2 & 5 & 6 \\\\ 1 & 2 & 5 \\\\ 1 & 3 & 2 \\\\ 24 & 22 & 13\\end{array}\\right)$\n",
    "2. Выбрать свои базисные функции и построить на них линейную интерполяцию. (Кол-во функций должно равняться кол-ву опорных точек, например, $ f_n=(x - n)^n $)"
   ]
  },
  {
   "cell_type": "code",
   "execution_count": null,
   "id": "0190df20-89bf-40be-beec-6262b6f8237b",
   "metadata": {},
   "outputs": [],
   "source": []
  }
 ],
 "metadata": {
  "kernelspec": {
   "display_name": "Python 3 (ipykernel)",
   "language": "python",
   "name": "python3"
  },
  "language_info": {
   "codemirror_mode": {
    "name": "ipython",
    "version": 3
   },
   "file_extension": ".py",
   "mimetype": "text/x-python",
   "name": "python",
   "nbconvert_exporter": "python",
   "pygments_lexer": "ipython3",
   "version": "3.10.7"
  }
 },
 "nbformat": 4,
 "nbformat_minor": 5
}
